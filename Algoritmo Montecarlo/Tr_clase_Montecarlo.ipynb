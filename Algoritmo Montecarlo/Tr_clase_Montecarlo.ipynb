{
  "nbformat": 4,
  "nbformat_minor": 0,
  "metadata": {
    "colab": {
      "name": "Tr_clase_Montecarlo.ipynb",
      "provenance": []
    },
    "kernelspec": {
      "name": "python3",
      "display_name": "Python 3"
    },
    "language_info": {
      "name": "python"
    }
  },
  "cells": [
    {
      "cell_type": "markdown",
      "source": [
        "Utilizar tecnicas de monte-carlo para encontar una aproximación de la solución a una integral, para ello revisar el siguiente video https://www.youtube.com/watch?v=8Wo2a9h42gw.\n",
        "\n",
        "\n",
        "Materia extra:\n",
        "https://www.youtube.com/watch?v=6_kaYOr8kV8\n",
        "https://www.youtube.com/watch?v=BWWw68AjSi4\n",
        "\n",
        "Generar una introducción e implementar en python la resolución del problemas utilizando Monte-Carlo"
      ],
      "metadata": {
        "id": "HhWI9n5esUxC"
      }
    },
    {
      "cell_type": "code",
      "execution_count": 3,
      "metadata": {
        "id": "hAv-0qBulL3w"
      },
      "outputs": [],
      "source": [
        "# Funcion a evaluar\n",
        "funcion = 'sqrt(x)'\n",
        "integral_analitica = 0.66\n",
        "n=100\n"
      ]
    },
    {
      "cell_type": "code",
      "source": [
        "import numpy as np\n",
        "import math\n",
        "#Generar datos\n",
        "tabla_x = []\n",
        "tabla_y = []\n",
        "conjunto_random = []\n",
        "\n",
        "for i in range(n):\n",
        "  x = np.random.random()\n",
        "  tabla_x.append(x)\n",
        "  tabla_y.append(math.sqrt(x))\n",
        "\n",
        "for i in range(n):\n",
        "  conjunto_random.append(np.random.random())\n",
        "\n",
        "#validar\n",
        "contador=0\n",
        "for i in range(n):\n",
        "  if(conjunto_random[i]<=tabla_y[i]):\n",
        "    contador=contador+1\n",
        "\n",
        "print('La aproximacion es:', contador/100)"
      ],
      "metadata": {
        "colab": {
          "base_uri": "https://localhost:8080/"
        },
        "id": "ND1LmE3WsiuN",
        "outputId": "12a60607-dd55-4b85-a897-14621fe3a265"
      },
      "execution_count": 14,
      "outputs": [
        {
          "output_type": "stream",
          "name": "stdout",
          "text": [
            "La aproximacion es: 0.68\n"
          ]
        }
      ]
    }
  ]
}