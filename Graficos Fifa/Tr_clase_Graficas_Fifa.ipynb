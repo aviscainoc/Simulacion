{
  "nbformat": 4,
  "nbformat_minor": 0,
  "metadata": {
    "colab": {
      "name": "Tr_clase_Graficas_Fifa.ipynb",
      "provenance": []
    },
    "kernelspec": {
      "name": "python3",
      "display_name": "Python 3"
    },
    "language_info": {
      "name": "python"
    }
  },
  "cells": [
    {
      "cell_type": "code",
      "source": [
        "#importar las librerias necesarias\n",
        "import matplotlib.pyplot as plt\n",
        "import numpy as np\n",
        "import pandas as pd\n",
        "import io\n",
        "from google.colab import files\n",
        "import plotly.graph_objects as go"
      ],
      "metadata": {
        "id": "PSANA_ZniH8i"
      },
      "execution_count": 1,
      "outputs": []
    },
    {
      "cell_type": "code",
      "execution_count": 16,
      "metadata": {
        "colab": {
          "base_uri": "https://localhost:8080/",
          "height": 424
        },
        "id": "o1zyYQV7cAzH",
        "outputId": "4cb41cd8-87ae-42a0-b370-8488880ad0cc"
      },
      "outputs": [
        {
          "output_type": "execute_result",
          "data": {
            "text/html": [
              "<div>\n",
              "<style scoped>\n",
              "    .dataframe tbody tr th:only-of-type {\n",
              "        vertical-align: middle;\n",
              "    }\n",
              "\n",
              "    .dataframe tbody tr th {\n",
              "        vertical-align: top;\n",
              "    }\n",
              "\n",
              "    .dataframe thead th {\n",
              "        text-align: right;\n",
              "    }\n",
              "</style>\n",
              "<table border=\"1\" class=\"dataframe\">\n",
              "  <thead>\n",
              "    <tr style=\"text-align: right;\">\n",
              "      <th></th>\n",
              "      <th>Overall</th>\n",
              "      <th>Weight</th>\n",
              "    </tr>\n",
              "  </thead>\n",
              "  <tbody>\n",
              "    <tr>\n",
              "      <th>0</th>\n",
              "      <td>94</td>\n",
              "      <td>159lbs</td>\n",
              "    </tr>\n",
              "    <tr>\n",
              "      <th>1</th>\n",
              "      <td>94</td>\n",
              "      <td>183lbs</td>\n",
              "    </tr>\n",
              "    <tr>\n",
              "      <th>2</th>\n",
              "      <td>92</td>\n",
              "      <td>150lbs</td>\n",
              "    </tr>\n",
              "    <tr>\n",
              "      <th>3</th>\n",
              "      <td>91</td>\n",
              "      <td>168lbs</td>\n",
              "    </tr>\n",
              "    <tr>\n",
              "      <th>4</th>\n",
              "      <td>91</td>\n",
              "      <td>154lbs</td>\n",
              "    </tr>\n",
              "    <tr>\n",
              "      <th>...</th>\n",
              "      <td>...</td>\n",
              "      <td>...</td>\n",
              "    </tr>\n",
              "    <tr>\n",
              "      <th>18202</th>\n",
              "      <td>47</td>\n",
              "      <td>134lbs</td>\n",
              "    </tr>\n",
              "    <tr>\n",
              "      <th>18203</th>\n",
              "      <td>47</td>\n",
              "      <td>170lbs</td>\n",
              "    </tr>\n",
              "    <tr>\n",
              "      <th>18204</th>\n",
              "      <td>47</td>\n",
              "      <td>148lbs</td>\n",
              "    </tr>\n",
              "    <tr>\n",
              "      <th>18205</th>\n",
              "      <td>47</td>\n",
              "      <td>154lbs</td>\n",
              "    </tr>\n",
              "    <tr>\n",
              "      <th>18206</th>\n",
              "      <td>46</td>\n",
              "      <td>176lbs</td>\n",
              "    </tr>\n",
              "  </tbody>\n",
              "</table>\n",
              "<p>18207 rows × 2 columns</p>\n",
              "</div>"
            ],
            "text/plain": [
              "       Overall  Weight\n",
              "0           94  159lbs\n",
              "1           94  183lbs\n",
              "2           92  150lbs\n",
              "3           91  168lbs\n",
              "4           91  154lbs\n",
              "...        ...     ...\n",
              "18202       47  134lbs\n",
              "18203       47  170lbs\n",
              "18204       47  148lbs\n",
              "18205       47  154lbs\n",
              "18206       46  176lbs\n",
              "\n",
              "[18207 rows x 2 columns]"
            ]
          },
          "metadata": {},
          "execution_count": 16
        }
      ],
      "source": [
        "dataset=  pd.read_csv('fifa_datos.csv', usecols=[7,27])\n",
        "dataset"
      ]
    },
    {
      "cell_type": "markdown",
      "source": [
        "Ejercicio en Clase\n",
        "Utilizar Matplot y Plotly para realizar las graficas.\n",
        "\n",
        "1 Con los datos de Fifa, organizar a los jugadores de acuerdo al peso en las siguientes escalas y generar un cuadro tipo PIE\n",
        "\n",
        "Debajo 125 Lbs.\n",
        "125-150\n",
        "150-175\n",
        "175 o superior\n",
        "\n"
      ],
      "metadata": {
        "id": "gQlLhDFihrm5"
      }
    },
    {
      "cell_type": "code",
      "source": [
        "# Generar un grafico de cual es su pie diestro\n",
        "\n",
        "cat_1 = dataset.loc[dataset['Weight'] < '125'].count()[0]\n",
        "cat_2 = dataset.loc[(dataset['Weight'] >= '125')&(dataset['Weight'] < '150')].count()[0]\n",
        "cat_3 = dataset.loc[(dataset['Weight'] >= '150')&(dataset['Weight'] < '175')].count()[0]\n",
        "cat_4 = dataset.loc[dataset['Weight'] >= '175'].count()[0]\n",
        "\n",
        "plt.figure()\n",
        "\n",
        "etiquetas = ['< 150', '125 - 150', '150 - 175', '> 175']\n",
        "\n",
        "plt.pie([cat_1, cat_2,cat_3,cat_4], labels=etiquetas, autopct='%.2f %%')\n",
        "plt.title('Clasificacion por peso')\n",
        "plt.show()"
      ],
      "metadata": {
        "colab": {
          "base_uri": "https://localhost:8080/",
          "height": 264
        },
        "id": "ZC4A8y1QjKVB",
        "outputId": "726572b2-29a1-44ad-fe77-303324a46033"
      },
      "execution_count": 26,
      "outputs": [
        {
          "output_type": "display_data",
          "data": {
            "image/png": "[encoded data removed]",
            "text/plain": [
              "<Figure size 432x288 with 1 Axes>"
            ]
          },
          "metadata": {}
        }
      ]
    },
    {
      "cell_type": "markdown",
      "source": [
        "2 Generar un grafico de barras (histograma) de acuerdo a su habilidad (Overall)  en base a los siguientes segmentos contando el número de jugadores\n",
        "\n",
        "* 40\n",
        "* 50\n",
        "* 60\n",
        "* 70\n",
        "* 80\n",
        "* 90"
      ],
      "metadata": {
        "id": "gNWZsP-HkfxX"
      }
    },
    {
      "cell_type": "code",
      "source": [
        "# Generar un grafico de cual es su pie diestro\n",
        "datos=[]\n",
        "datos.append(dataset.loc[(dataset['Overall'] >= 40) & (dataset['Overall'] < 50) ].count()[0])\n",
        "datos.append(dataset.loc[(dataset['Overall'] >= 50) & (dataset['Overall'] < 60) ].count()[0])\n",
        "datos.append(dataset.loc[(dataset['Overall'] >= 60) & (dataset['Overall'] < 70) ].count()[0])\n",
        "datos.append(dataset.loc[(dataset['Overall'] >= 70) & (dataset['Overall'] < 80) ].count()[0])\n",
        "datos.append(dataset.loc[(dataset['Overall'] >= 80) & (dataset['Overall'] < 90) ].count()[0])\n",
        "datos.append(dataset.loc[(dataset['Overall'] >= 90) ].count()[0])\n",
        "\n",
        "datos\n",
        "plt.figure()\n",
        "etiquetas=['40','50','60','70','80','90']\n",
        "\n",
        "\n",
        "plt.bar(etiquetas,datos)\n",
        "plt.title('Clasificacion por peso')\n",
        "plt.show()\n",
        "\n",
        " "
      ],
      "metadata": {
        "colab": {
          "base_uri": "https://localhost:8080/",
          "height": 281
        },
        "id": "vRJhr1lAk6Zi",
        "outputId": "b611c375-3b38-444c-8256-186176573ea1"
      },
      "execution_count": 38,
      "outputs": [
        {
          "output_type": "display_data",
          "data": {
            "image/png": "[encoded data removed]",
            "text/plain": [
              "<Figure size 432x288 with 1 Axes>"
            ]
          },
          "metadata": {
            "needs_background": "light"
          }
        }
      ]
    },
    {
      "cell_type": "markdown",
      "source": [
        "\n",
        "3 Investigar alguna herramienta o software que permita generar reportes con Python utilizando CodeLabs.\n",
        "\n"
      ],
      "metadata": {
        "id": "L6F9I1z8noL8"
      }
    },
    {
      "cell_type": "code",
      "source": [
        "!pip install fpdf"
      ],
      "metadata": {
        "colab": {
          "base_uri": "https://localhost:8080/",
          "height": 0
        },
        "id": "4gZiG6UNnotc",
        "outputId": "83bb29f9-3408-417a-e8d3-4c6e742e4785"
      },
      "execution_count": 43,
      "outputs": [
        {
          "output_type": "stream",
          "name": "stdout",
          "text": [
            "Collecting fpdf\n",
            "  Downloading fpdf-1.7.2.tar.gz (39 kB)\n",
            "Building wheels for collected packages: fpdf\n",
            "  Building wheel for fpdf (setup.py) ... \u001b[?25l\u001b[?25hdone\n",
            "  Created wheel for fpdf: filename=fpdf-1.7.2-py2.py3-none-any.whl size=40722 sha256=145047f2fb73946cdbde3035186cf24f4e1f40d133abace9edcd0c2197abc396\n",
            "  Stored in directory: /root/.cache/pip/wheels/d7/ca/c8/86467e7957bbbcbdf4cf4870fc7dc95e9a16404b2e3c3a98c3\n",
            "Successfully built fpdf\n",
            "Installing collected packages: fpdf\n",
            "Successfully installed fpdf-1.7.2\n"
          ]
        }
      ]
    },
    {
      "cell_type": "code",
      "source": [
        "from fpdf import FPDF\n",
        "\n",
        "class PDF(FPDF):\n",
        "    def header(self):\n",
        "        # Logo\n",
        "        \n",
        "        # Arial bold 15\n",
        "        self.set_font('Arial', 'B', 15)\n",
        "        # Move to the right\n",
        "        self.cell(80)\n",
        "        # Title\n",
        "        self.cell(30, 10, 'Title', 1, 0, 'C')\n",
        "        # Line break\n",
        "        self.ln(20)\n",
        "\n",
        "    # Page footer\n",
        "    def footer(self):\n",
        "        # Position at 1.5 cm from bottom\n",
        "        self.set_y(-15)\n",
        "        # Arial italic 8\n",
        "        self.set_font('Arial', 'I', 8)\n",
        "        # Page number\n",
        "        self.cell(0, 10, 'Page ' + str(self.page_no()) + '/{nb}', 0, 0, 'C')\n",
        "\n",
        "# Instantiation of inherited class\n",
        "pdf = PDF()\n",
        "pdf.alias_nb_pages()\n",
        "pdf.add_page()\n",
        "pdf.set_font('Times', '', 12)\n",
        "for i in range(1, 41):\n",
        "    pdf.cell(0, 10, 'Printing line number ' + str(i), 0, 1)\n",
        "pdf.output('tuto2.pdf', 'F')"
      ],
      "metadata": {
        "colab": {
          "base_uri": "https://localhost:8080/",
          "height": 35
        },
        "id": "uhXigfhwn5gE",
        "outputId": "3e07f181-4093-4bc9-ce7c-a82460ea3fd8"
      },
      "execution_count": 45,
      "outputs": [
        {
          "output_type": "execute_result",
          "data": {
            "application/vnd.google.colaboratory.intrinsic+json": {
              "type": "string"
            },
            "text/plain": [
              "''"
            ]
          },
          "metadata": {},
          "execution_count": 45
        }
      ]
    }
  ]
}