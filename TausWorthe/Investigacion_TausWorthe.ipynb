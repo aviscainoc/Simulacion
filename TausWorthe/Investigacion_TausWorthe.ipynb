{
  "nbformat": 4,
  "nbformat_minor": 0,
  "metadata": {
    "colab": {
      "name": "Investigacion_TausWorthe.ipynb",
      "provenance": []
    },
    "kernelspec": {
      "name": "python3",
      "display_name": "Python 3"
    },
    "language_info": {
      "name": "python"
    }
  },
  "cells": [
    {
      "cell_type": "markdown",
      "source": [
        "Aula invertida / Investigación\n",
        "\n",
        "Para mejorar la generación de numeros aleatorios se utiliza procesos o algoritmo criptograficos, en base a ellos realizar la investigación e implementación del algoritmo Tausworthe"
      ],
      "metadata": {
        "id": "yqJ835n3sl0H"
      }
    },
    {
      "cell_type": "markdown",
      "source": [
        "Algoritmo Tausworth\n",
        "Varias investigaciones teóricas y empíricas sugieren que los generadores de números aleatorios basados en recurrencia lineal deben evitar los generadores GFSR basados en trinomios y en su lugar deberían usarse generadores combinados. \n",
        "El algoritmo Tausworth fue introducido por primera vez por Tesuka y propone instancias específicas que tengan la mejor equidistribución posible en propiedades con relación a la duración de su período en todas las dimensiones. Se examina de la siguiente manera, se proporciona el hipercubo de la unidad t-dimensional en la variable 2tl celdas cubicas de tamaños iguales y coloca estas celdas en los puntos t-dimensionales producidos por el generados durante todo su período; el valor más grande para el cual cada celda contiene el mismo número de puntos se llama resolución en dimensión t y de denota por tl. El generador se llama máximamente equidistribuido si tl alcanza su mayor valor posible en todas las dimensiones de tl. Los valores que se calcular aprovechando el hecho de que están relacionados con las longitudes de los vectores más cortos en ciertos tramos, sin embargo, aunque algunos cálculos proporcionan más información que solo tl y el objetivo del Tausworth es describir un algoritmo mucho más eficiente para calcular la resolución de tl para todos ty y comprobar la máxima equidistribución.\n"
      ],
      "metadata": {
        "id": "G2d1MIaOs8W-"
      }
    },
    {
      "cell_type": "code",
      "execution_count": 33,
      "metadata": {
        "colab": {
          "base_uri": "https://localhost:8080/"
        },
        "id": "e7laxbtasfm5",
        "outputId": "20a796e9-4a8f-4b6a-d449-6f7db5c5bc93"
      },
      "outputs": [
        {
          "output_type": "execute_result",
          "data": {
            "text/plain": [
              "[0.6875, 0.75, 0.9375]"
            ]
          },
          "metadata": {},
          "execution_count": 33
        }
      ],
      "source": [
        "#partimos de unas condiciones que son dadas por el ejercicio asi como una semilla inicial\n",
        "import math\n",
        "h=2\n",
        "q=4\n",
        "bits=[1,0,1,1,1]\n",
        "corte=4\n",
        "cantidadbits=12\n",
        "suma=0\n",
        "aleatorios=[]\n",
        "\n",
        "for i in range(5,cantidadbits):\n",
        "\n",
        "  indice1= i-h\n",
        "  indice2=i-q\n",
        "  valor = (bits[indice1]+bits[indice2])%2\n",
        "  bits.append(valor)\n",
        "\n",
        "\n",
        "contador=4\n",
        "for i in range(cantidadbits):\n",
        "  if contador>0:\n",
        "    suma=suma+bits[i]*(math.pow(2,contador-1))\n",
        "    contador=contador-1\n",
        "\n",
        "  if (contador==0):\n",
        "    contador=4\n",
        "    aleatorios.append(suma/math.pow(2,corte))\n",
        "    suma=0\n",
        "\n",
        "aleatorios"
      ]
    }
  ]
}